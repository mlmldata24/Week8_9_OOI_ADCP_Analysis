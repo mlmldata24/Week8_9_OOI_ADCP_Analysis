{
 "cells": [
  {
   "cell_type": "markdown",
   "metadata": {},
   "source": [
    "## OOI Endurance Array\n",
    "\n",
    "![Endurance Array](https://ooinet.oceanobservatories.org/img/home/coastal_endurance/endurance_1.jpg) \n",
    "\n",
    "This example focuses on Acoustic Doppler Current Profiler (ADCP) data from the inshore mooring on the Oregon line. The ADCP is mounted at the bottom and looks upward throughout the water column, measuring velocity at a series of depths.\n",
    "\n",
    "![Oregon Endurance Line](https://ooinet.oceanobservatories.org/img/home/coastal_endurance/endurance_2.png)"
   ]
  },
  {
   "cell_type": "markdown",
   "metadata": {},
   "source": [
    "The [OOI Data Portal](https://ooinet.oceanobservatories.org/) can be used to access data from any OOI instrument. The data typically come in NetCDF format. To create a custom data catalog, you need to sign up for a free account.\n",
    "\n",
    "A data catalog for the bottom-mounted ADCP at the Oregon inshore mooring has already been created:\n",
    "\n",
    "https://opendap.oceanobservatories.org/thredds/catalog/ooi/tconnolly@mlml.calstate.edu/20200421T020908490Z-CE01ISSM-MFD37-03-CTDBPC000-recovered_inst-ctdbp_cdef_instrument_recovered/catalog.html"
   ]
  },
  {
   "cell_type": "markdown",
   "metadata": {},
   "source": [
    "### Load data\n",
    "\n",
    "In addition to standard libraries, the `import tseries as ts` line imports the module contained in the file `tseries.py` contained in this repository."
   ]
  },
  {
   "cell_type": "code",
   "execution_count": null,
   "metadata": {},
   "outputs": [],
   "source": [
    "%matplotlib widget\n",
    "import numpy as np\n",
    "import matplotlib.pyplot as plt\n",
    "import xarray as xr\n",
    "from matplotlib import mlab\n",
    "import scipy.signal as signal\n",
    "\n",
    "import tseries as ts"
   ]
  },
  {
   "cell_type": "code",
   "execution_count": null,
   "metadata": {},
   "outputs": [],
   "source": [
    "local_dataset = 'ooi_data/deployment0009_CE01ISSM-MFD35-04-ADCPTM000-recovered_inst-adcp_velocity_earth_20180403T043000-20180912T224545.920000.nc'"
   ]
  },
  {
   "cell_type": "markdown",
   "metadata": {},
   "source": [
    "The ADCP data for April-September 2018 is included in this repository. The data set is in NetCDF format, and can be easily opened with the [xarray](http://xarray.pydata.org) package."
   ]
  },
  {
   "cell_type": "code",
   "execution_count": null,
   "metadata": {},
   "outputs": [],
   "source": [
    "# insert code here\n"
   ]
  },
  {
   "cell_type": "code",
   "execution_count": null,
   "metadata": {},
   "outputs": [],
   "source": []
  },
  {
   "cell_type": "markdown",
   "metadata": {},
   "source": [
    "### ADCP post-processing\n",
    "\n",
    "First, for convenience, create variables for eastward velocity ($u$) and northward velocity ($v$) in units of m/s."
   ]
  },
  {
   "cell_type": "code",
   "execution_count": null,
   "metadata": {},
   "outputs": [],
   "source": [
    "ds['u'] = ds['water_velocity_east']/1000\n",
    "ds['u'].attrs['units'] = 'm/s'\n",
    "\n",
    "ds['v'] = ds['water_velocity_north']/1000\n",
    "ds['v'].attrs['units'] = 'm/s'"
   ]
  },
  {
   "cell_type": "markdown",
   "metadata": {},
   "source": [
    "\n",
    "The dataset provided by OOI includes the following variables:\n",
    "* `depth_from_pressure` is the total water column depth, calculated from the pressure sensor. Dimensions: `(obs)`\n",
    "* `bin_depths` is the depth of each ADCP bin below the sea surface, which moves up and down. The bin depths constantly change in time. Dimensions: `(obs, bin)`\n",
    "\n",
    "The code below creates additional variables for keeping track of depths in the ADCP data:\n",
    "* `bin_height` is the height of each ADCP bin above the bottom. These heights are fixed, since the ADCP is mounted at the bottom. Dimensions: `(bin)`\n",
    "* `bin_depths_avg` is the average depth below the surface for each ADCP bin. These depths are fixed in time since they are defined in relation to a time average. Dimensions: `(bin)`\n",
    "* `sea_surface` is the height of the sea surface, relative to the time average. Dimensions: `(obs)`\n",
    "* `bottom_depth_avg` is the average bottom depth, calculated from the pressure sensor. This is a single value with no dimensions. Dimensions: `()`"
   ]
  },
  {
   "cell_type": "code",
   "execution_count": null,
   "metadata": {},
   "outputs": [],
   "source": [
    "ds['bin_height'] =  ds['depth_from_pressure'][0] - ds['bin_depths'][0,:]\n",
    "ds['bin_height'].attrs['units'] = 'm'\n",
    "\n",
    "ds['bin_depths_avg'] = ds['bin_height']-np.mean(ds['depth_from_pressure'])\n",
    "ds['bin_depths_avg'].attrs['units'] = 'm'\n",
    "\n",
    "ds['sea_surface'] = ds['depth_from_pressure']-np.mean(ds['depth_from_pressure'])\n",
    "ds['sea_surface'].attrs['units'] = 'm'\n",
    "\n",
    "ds['bottom_depth_avg'] = np.mean(ds['depth_from_pressure'])\n",
    "ds['bottom_depth_avg'].attrs['units'] = 'm'"
   ]
  },
  {
   "cell_type": "markdown",
   "metadata": {},
   "source": [
    "### ADCP quality control\n",
    "\n",
    "The acoustic signal of the ADCP can be reflected at the sea surface, leading to contamination. This plot shows the echo intensity for one of the four beams of the ADCP. There is bad data near the sea surface, as well as data above the sea surface which needs to be discarded."
   ]
  },
  {
   "cell_type": "code",
   "execution_count": null,
   "metadata": {},
   "outputs": [],
   "source": [
    "plt.figure(figsize=(8,3))\n",
    "plt.pcolor(ds['time'],ds['bin_height'],\n",
    "           ds['corrected_echo_intensity_beam1'].T)\n",
    "plt.plot(ds['time'],ds['depth_from_pressure'],'k-') "
   ]
  },
  {
   "cell_type": "markdown",
   "metadata": {},
   "source": [
    "To get a better look, select a date range for plotting a subset of the data."
   ]
  },
  {
   "cell_type": "code",
   "execution_count": null,
   "metadata": {},
   "outputs": [],
   "source": [
    "t1 = np.datetime64('2018-07-01 00:00:00')\n",
    "t2 = np.datetime64('2018-07-15 00:00:00')"
   ]
  },
  {
   "cell_type": "code",
   "execution_count": null,
   "metadata": {},
   "outputs": [],
   "source": [
    "plt.figure(figsize=(8,3))\n",
    "plt.pcolor(ds['time'], ds['bin_height'],\n",
    "           ds['corrected_echo_intensity_beam1'].T)\n",
    "plt.plot(ds['time'], ds['depth_from_pressure'],'k-') \n",
    "plt.xlim([t1,t2])"
   ]
  },
  {
   "cell_type": "markdown",
   "metadata": {},
   "source": [
    "Looking at the velocity, the noise near the surface is apparent."
   ]
  },
  {
   "cell_type": "code",
   "execution_count": null,
   "metadata": {},
   "outputs": [],
   "source": [
    "plt.figure(figsize=(8,3))\n",
    "# insert code here (everything below)\n"
   ]
  },
  {
   "cell_type": "markdown",
   "metadata": {},
   "source": [
    "We can remove the noise by selecting only good data at least 4m below the sea surface. "
   ]
  },
  {
   "cell_type": "code",
   "execution_count": null,
   "metadata": {},
   "outputs": [],
   "source": [
    "# insert code here\n"
   ]
  },
  {
   "cell_type": "code",
   "execution_count": null,
   "metadata": {},
   "outputs": [],
   "source": [
    "# insert code here\n"
   ]
  },
  {
   "cell_type": "code",
   "execution_count": null,
   "metadata": {},
   "outputs": [],
   "source": []
  },
  {
   "cell_type": "markdown",
   "metadata": {},
   "source": [
    "We can use xarray to take an average over time, but we have to specify the dimension."
   ]
  },
  {
   "cell_type": "code",
   "execution_count": null,
   "metadata": {},
   "outputs": [],
   "source": []
  },
  {
   "cell_type": "markdown",
   "metadata": {},
   "source": [
    "### Exercises\n",
    "\n",
    "Plot the northward velocity ($v$) variable as a function of time and height above the bottom. Which velocity component tends to be stronger, the $u$ or $v$ component?"
   ]
  },
  {
   "cell_type": "code",
   "execution_count": null,
   "metadata": {},
   "outputs": [],
   "source": [
    "# insert code here\n"
   ]
  },
  {
   "cell_type": "markdown",
   "metadata": {},
   "source": [
    "Create a new variable called `ds['uda']` which is the average of `ds['u']` over depth. There should be one value for each separate time. *Hints:* What is the name of the dimension that you want to average over? How can you check the names of the dimensions in the dataset?"
   ]
  },
  {
   "cell_type": "code",
   "execution_count": null,
   "metadata": {},
   "outputs": [],
   "source": []
  },
  {
   "cell_type": "markdown",
   "metadata": {},
   "source": [
    "Do the same for the $v$-component. Create a new variable called `ds['vda']` which is the average of `ds['v']` over depth. There should be one value for each separate time. "
   ]
  },
  {
   "cell_type": "code",
   "execution_count": null,
   "metadata": {},
   "outputs": [],
   "source": []
  },
  {
   "cell_type": "markdown",
   "metadata": {},
   "source": [
    "Make a scatter plot between the depth-averaged $\\bar{u}$ and $\\bar{v}$ velocity components. Which component tends to have a greater magnitude, and why?"
   ]
  },
  {
   "cell_type": "code",
   "execution_count": null,
   "metadata": {},
   "outputs": [],
   "source": []
  },
  {
   "cell_type": "markdown",
   "metadata": {},
   "source": [
    "Give your new variables attributes for units."
   ]
  },
  {
   "cell_type": "code",
   "execution_count": null,
   "metadata": {},
   "outputs": [],
   "source": []
  },
  {
   "cell_type": "markdown",
   "metadata": {},
   "source": [
    "### Correlation functions"
   ]
  },
  {
   "cell_type": "markdown",
   "metadata": {},
   "source": [
    "**Overall Goal:** Based on the decorrelation time scale, how many *effective* degrees of freedom ($N^*$) does this time series have?\n",
    "\n",
    "#### Preliminary exercises\n",
    "\n",
    "1) How many samples ($N$) are in the depth-averaged $\\bar{v}$ time series?\n",
    "\n",
    "2) What is the time interval $\\Delta t$ betwen samples?"
   ]
  },
  {
   "cell_type": "markdown",
   "metadata": {},
   "source": [
    "*insert answer here*"
   ]
  },
  {
   "cell_type": "markdown",
   "metadata": {},
   "source": [
    "#### Manually computing autocorrelation"
   ]
  },
  {
   "cell_type": "markdown",
   "metadata": {},
   "source": [
    "Correlation at zero lag ($\\tau$ = 0)."
   ]
  },
  {
   "cell_type": "code",
   "execution_count": null,
   "metadata": {},
   "outputs": [],
   "source": [
    "# insert code here\n"
   ]
  },
  {
   "cell_type": "code",
   "execution_count": null,
   "metadata": {},
   "outputs": [],
   "source": [
    "# insert code here\n"
   ]
  },
  {
   "cell_type": "markdown",
   "metadata": {},
   "source": [
    "Correlation at lag ($\\tau$ = $\\Delta t$)."
   ]
  },
  {
   "cell_type": "code",
   "execution_count": null,
   "metadata": {},
   "outputs": [],
   "source": [
    "# insert code here\n"
   ]
  },
  {
   "cell_type": "markdown",
   "metadata": {},
   "source": [
    "Correlation at lag ($\\tau = 2 \\Delta t$)."
   ]
  },
  {
   "cell_type": "code",
   "execution_count": null,
   "metadata": {},
   "outputs": [],
   "source": [
    "# insert code here\n"
   ]
  },
  {
   "cell_type": "code",
   "execution_count": null,
   "metadata": {},
   "outputs": [],
   "source": [
    "plt.figure()\n",
    "plt.plot(ds['time'][2:], ds['vda'][2:], 'r-')\n",
    "plt.plot(ds['time'][2:], ds['vda'][:-2], 'b-')\n",
    "plt.xlim([ds['time'][0], ds['time'][100]])\n",
    "plt.xticks(rotation=30)"
   ]
  },
  {
   "cell_type": "markdown",
   "metadata": {},
   "source": [
    "#### Exercises\n",
    "\n",
    "Compute the autocorrelation (r) for a lag of $\\tau$ = 3 hours"
   ]
  },
  {
   "cell_type": "code",
   "execution_count": null,
   "metadata": {},
   "outputs": [],
   "source": [
    "# insert code here\n"
   ]
  },
  {
   "cell_type": "markdown",
   "metadata": {},
   "source": [
    "### Autocorrelation function\n",
    "\n",
    "Computing cross-correlation and autocorrelation functions is common enough that there is a matplotlib function to plot them. This function also allows you to automatically detrend the data beforehand."
   ]
  },
  {
   "cell_type": "code",
   "execution_count": null,
   "metadata": {},
   "outputs": [],
   "source": [
    "plt.figure()\n",
    "lags,r,_,_ = plt.xcorr(ds['vda'],ds['vda'],detrend=mlab.detrend,maxlags=1000);\n",
    "plt.xlabel('lag')\n",
    "plt.ylabel('r')\n",
    "plt.title('autocorrelation function, depth-averaged v')"
   ]
  },
  {
   "cell_type": "code",
   "execution_count": null,
   "metadata": {},
   "outputs": [],
   "source": []
  },
  {
   "cell_type": "code",
   "execution_count": null,
   "metadata": {},
   "outputs": [],
   "source": []
  },
  {
   "cell_type": "markdown",
   "metadata": {},
   "source": [
    "#### Exercises\n",
    "\n",
    "* From the autocorrelation plot above, visually estimate the *decorrelation time scale* (the time lag $\\tau$ at which $r$ decreases to 0, in units of hours or days). Note: you will have to convert the number of lags on the x-axis to time using the sample interval $\\Delta t$.\n",
    "* Based on the decorrelation time scale, how many *effective* degrees of freedom ($N^*$) does this time series have?"
   ]
  },
  {
   "cell_type": "markdown",
   "metadata": {},
   "source": []
  },
  {
   "cell_type": "markdown",
   "metadata": {},
   "source": [
    "### Spectral analysis intro"
   ]
  },
  {
   "cell_type": "markdown",
   "metadata": {},
   "source": [
    "These exercises use the time series for depth-averaged velocity $\\bar{v}$ and bottom pressure."
   ]
  },
  {
   "cell_type": "code",
   "execution_count": null,
   "metadata": {},
   "outputs": [],
   "source": [
    "plt.figure()\n",
    "# insert code here\n"
   ]
  },
  {
   "cell_type": "code",
   "execution_count": null,
   "metadata": {},
   "outputs": [],
   "source": [
    "plt.figure()\n",
    "# insert code here\n"
   ]
  },
  {
   "cell_type": "markdown",
   "metadata": {},
   "source": [
    "### Exercises\n",
    "\n",
    "* How many samples $N$ are in the time series?\n",
    "* What is the sample interval $\\Delta t$, in hours? In days?\n",
    "* What is the fundamental frequency of the time series (in cycles per day)?\n",
    "* What is the sampling frequency of the time series (in cycles per day)?"
   ]
  },
  {
   "cell_type": "code",
   "execution_count": null,
   "metadata": {},
   "outputs": [],
   "source": [
    "from scipy.signal import periodogram\n",
    "# insert code here\n"
   ]
  },
  {
   "cell_type": "code",
   "execution_count": null,
   "metadata": {},
   "outputs": [],
   "source": [
    "# insert code here\n"
   ]
  },
  {
   "cell_type": "markdown",
   "metadata": {},
   "source": [
    "### Exercises\n",
    "\n",
    "* Plot the periodogram (spectrum) for pressure\n",
    "* Label the plot with the appropriate units\n",
    "* Discuss the similarities and differences between the spectra of velocity and pressure."
   ]
  },
  {
   "cell_type": "markdown",
   "metadata": {},
   "source": [
    "#### Pressure spectrum"
   ]
  },
  {
   "cell_type": "code",
   "execution_count": null,
   "metadata": {},
   "outputs": [],
   "source": [
    "# insert code here\n"
   ]
  },
  {
   "cell_type": "markdown",
   "metadata": {},
   "source": [
    "### Better spectral estimates\n",
    "* Sensible data windows\n",
    "* Averaging\n",
    "* Pre-whitening\n",
    "* Confidence intervals"
   ]
  },
  {
   "cell_type": "code",
   "execution_count": null,
   "metadata": {},
   "outputs": [],
   "source": [
    "from scipy.signal import welch"
   ]
  },
  {
   "cell_type": "code",
   "execution_count": null,
   "metadata": {},
   "outputs": [],
   "source": [
    "N = len(ds['vda'])\n",
    "fs = 48. # sampling frequency? units?\n",
    "# fnyquist"
   ]
  },
  {
   "cell_type": "code",
   "execution_count": null,
   "metadata": {},
   "outputs": [],
   "source": [
    "# raw periodogram (noisy, biased)\n",
    "f,S = welch(ds['vda'],fs = 48.,nperseg=N, window='boxcar')\n",
    "\n",
    "# Welch's method with winlen N/2\n",
    "winlen = N/2\n",
    "f2,S2 = welch(ds['vda'],fs = 48.,nperseg=winlen,window='hann',detrend='linear')"
   ]
  },
  {
   "cell_type": "code",
   "execution_count": null,
   "metadata": {},
   "outputs": [],
   "source": [
    "plt.figure()\n",
    "plt.loglog(f,S)\n",
    "plt.xlabel('frequency [cpd]') # units? [cpd], \n",
    "plt.ylabel('PSD ') # units? [m$^2$ s$^{-2}$ cpd$^{-1}$], variance/frequency"
   ]
  },
  {
   "cell_type": "code",
   "execution_count": null,
   "metadata": {},
   "outputs": [],
   "source": [
    "plt.loglog(f2,S2)"
   ]
  },
  {
   "cell_type": "code",
   "execution_count": null,
   "metadata": {},
   "outputs": [],
   "source": [
    "from scipy.stats import chi2\n",
    "\n",
    "M = winlen/2\n",
    "dof = N/M # dof depends on length of window\n",
    "edof = (8/3)*dof # bonus points for using sensible window (Hanning)\n",
    "\n",
    "lower = edof/chi2.ppf(0.975,edof)\n",
    "upper = edof/chi2.ppf(0.025,edof)"
   ]
  },
  {
   "cell_type": "code",
   "execution_count": null,
   "metadata": {},
   "outputs": [],
   "source": [
    "fplot = 5 # horizontal position of CI\n",
    "Splot = 0.01 # vertical position of CI\n",
    "\n",
    "plt.plot(np.array([fplot,fplot]),Splot*np.array([lower,upper]),'k-')\n",
    "plt.text(fplot,Splot,' 95% (Welch)')"
   ]
  },
  {
   "cell_type": "markdown",
   "metadata": {},
   "source": [
    "* Change the window length to N/4. Note how the shape of the spectrum changes. Note how the confidence intervals change. Do the same for a window length of N/8.\n",
    "* What are the advantages of a shorter window length (more averaging)? What are the disadvantages?"
   ]
  },
  {
   "cell_type": "markdown",
   "metadata": {},
   "source": [
    "### Filtering (next class)"
   ]
  },
  {
   "cell_type": "markdown",
   "metadata": {},
   "source": [
    "#### Preliminary exercises\n",
    "* To remove tidal fluctations from the Oregon velocity time series, we will filter the time series to remove high-frequency fluctionas with periods less than 33 hours. If the cutoff period of the filter is 33 hours, what is the corresponding frequency in cycles per hour?\n",
    "* In this data set, how many observations are collected in 33 hours?"
   ]
  },
  {
   "cell_type": "code",
   "execution_count": null,
   "metadata": {},
   "outputs": [],
   "source": [
    "T_cutoff = 33\n",
    "f_cutoff = 1/33*24 # 1/hour * 24 hours/day = cpd"
   ]
  },
  {
   "cell_type": "code",
   "execution_count": null,
   "metadata": {},
   "outputs": [],
   "source": []
  },
  {
   "cell_type": "code",
   "execution_count": null,
   "metadata": {},
   "outputs": [],
   "source": [
    "# xarray rolling mean (33 hours, or 66 observations)\n",
    "ds['vda_davg'] = ds['vda'].rolling(obs=66,center=True).mean()\n",
    "\n",
    "# PL64 filter (WHOI)\n",
    "ds['vda_filt'] = ts.pl64(ds['vda'],T=66)"
   ]
  },
  {
   "cell_type": "code",
   "execution_count": null,
   "metadata": {},
   "outputs": [],
   "source": [
    "plt.figure()\n",
    "plt.plot(ds['time'],ds['vda'])\n",
    "plt.plot(ds['time'],ds['vda_davg'])\n",
    "plt.plot(ds['time'],ds['vda_filt'])\n",
    "plt.legend(['original','rolling boxcar','PL64 filter'])"
   ]
  },
  {
   "cell_type": "markdown",
   "metadata": {},
   "source": [
    "Show:\n",
    "- Zoom in on smoothed fluctuations\n",
    "- Zoom in on edges to show lost information"
   ]
  },
  {
   "cell_type": "code",
   "execution_count": null,
   "metadata": {},
   "outputs": [],
   "source": [
    "ii = np.isfinite(ds['vda_davg'])"
   ]
  },
  {
   "cell_type": "code",
   "execution_count": null,
   "metadata": {},
   "outputs": [],
   "source": [
    "fdavg,Sdavg = welch(ds['vda_davg'][ii],fs = 48.,nperseg=winlen/2,window='hanning',\n",
    "                    detrend='linear')"
   ]
  },
  {
   "cell_type": "code",
   "execution_count": null,
   "metadata": {},
   "outputs": [],
   "source": [
    "plt.figure()\n",
    "plt.loglog(f2,S2)\n",
    "plt.loglog(fdavg,Sdavg)"
   ]
  },
  {
   "cell_type": "markdown",
   "metadata": {},
   "source": [
    "On the same axis as the spectrum of rolling mean time series, plot:\n",
    "- the spectrum of the original time series\n",
    "- the spectrum of the time series filtered with the PL64 filter\n",
    "\n",
    "Which smoothing method is more effective at removing high-frequency fluctuations with periods of less than 33 hours?\n",
    "\n",
    "Which smoothing method is more effective at retaining low-frequency fluctuations with periods greater than 33 hours?"
   ]
  },
  {
   "cell_type": "code",
   "execution_count": null,
   "metadata": {},
   "outputs": [],
   "source": []
  },
  {
   "cell_type": "code",
   "execution_count": null,
   "metadata": {},
   "outputs": [],
   "source": [
    "jj = np.isfinite(ds['vda_filt'])\n",
    "ffilt,Sfilt = welch(ds['vda_filt'][jj],fs = 48.,nperseg=winlen/2,window='hanning',\n",
    "                    detrend='linear')"
   ]
  },
  {
   "cell_type": "code",
   "execution_count": null,
   "metadata": {},
   "outputs": [],
   "source": [
    "plt.loglog(ffilt,Sfilt)"
   ]
  },
  {
   "cell_type": "code",
   "execution_count": null,
   "metadata": {},
   "outputs": [],
   "source": [
    "plt.legend(['unfiltered','rolling mean','PL64 filter'])"
   ]
  },
  {
   "cell_type": "code",
   "execution_count": null,
   "metadata": {},
   "outputs": [],
   "source": [
    "yl = plt.ylim()\n",
    "plt.plot([f_cutoff,f_cutoff],yl,'k--')\n",
    "plt.ylim(yl)"
   ]
  },
  {
   "cell_type": "code",
   "execution_count": null,
   "metadata": {},
   "outputs": [],
   "source": [
    "plt.xlabel('frequency [cpd]')\n",
    "plt.ylabel('PSD [m$^2$ s$^{-2}$ cpd$^{-1}$]')"
   ]
  },
  {
   "cell_type": "code",
   "execution_count": null,
   "metadata": {},
   "outputs": [],
   "source": []
  }
 ],
 "metadata": {
  "kernelspec": {
   "display_name": "Python 3 (ipykernel)",
   "language": "python",
   "name": "python3"
  },
  "language_info": {
   "codemirror_mode": {
    "name": "ipython",
    "version": 3
   },
   "file_extension": ".py",
   "mimetype": "text/x-python",
   "name": "python",
   "nbconvert_exporter": "python",
   "pygments_lexer": "ipython3",
   "version": "3.10.9"
  }
 },
 "nbformat": 4,
 "nbformat_minor": 4
}
