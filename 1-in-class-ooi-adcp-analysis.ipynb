{
 "cells": [
  {
   "cell_type": "markdown",
   "metadata": {},
   "source": [
    "## OOI Endurance Array\n",
    "\n",
    "![Endurance Array](https://ooinet.oceanobservatories.org/img/home/coastal_endurance/endurance_1.jpg) \n",
    "\n",
    "This example focuses on Acoustic Doppler Current Profiler (ADCP) data from the inshore mooring on the Oregon line. The ADCP is mounted at the bottom and looks upward throughout the water column, measuring velocity at a series of depths.\n",
    "\n",
    "![Oregon Endurance Line](https://ooinet.oceanobservatories.org/img/home/coastal_endurance/endurance_2.png)"
   ]
  },
  {
   "cell_type": "markdown",
   "metadata": {},
   "source": [
    "The [OOI Data Portal](https://ooinet.oceanobservatories.org/) can be used to access data from any OOI instrument. The data typically come in NetCDF format. To create a custom data catalog, you need to sign up for a free account.\n",
    "\n",
    "A data catalog for the bottom-mounted ADCP at the Oregon inshore mooring has already been created:\n",
    "\n",
    "https://opendap.oceanobservatories.org/thredds/catalog/ooi/tconnolly@mlml.calstate.edu/20200421T020908490Z-CE01ISSM-MFD37-03-CTDBPC000-recovered_inst-ctdbp_cdef_instrument_recovered/catalog.html"
   ]
  },
  {
   "cell_type": "markdown",
   "metadata": {},
   "source": [
    "### Load data\n",
    "\n",
    "In addition to standard libraries, the `import tseries as ts` line imports the module contained in the file `tseries.py` contained in this repository."
   ]
  },
  {
   "cell_type": "code",
   "execution_count": 8,
   "metadata": {},
   "outputs": [],
   "source": [
    "%matplotlib widget\n",
    "import numpy as np\n",
    "import matplotlib.pyplot as plt\n",
    "import xarray as xr\n",
    "from matplotlib import mlab\n",
    "import scipy.signal as signal\n",
    "from scipy import stats\n",
    "\n",
    "import tseries as ts"
   ]
  },
  {
   "cell_type": "code",
   "execution_count": 7,
   "metadata": {},
   "outputs": [],
   "source": [
    "local_dataset = 'ooi_data/deployment0009_CE01ISSM-MFD35-04-ADCPTM000-recovered_inst-adcp_velocity_earth_20180403T043000-20180912T224545.920000.nc'"
   ]
  },
  {
   "cell_type": "markdown",
   "metadata": {},
   "source": [
    "The ADCP data for April-September 2018 is included in this repository. The data set is in NetCDF format, and can be easily opened with the [xarray](http://xarray.pydata.org) package."
   ]
  },
  {
   "cell_type": "code",
   "execution_count": null,
   "metadata": {},
   "outputs": [],
   "source": [
    "# insert code here\n"
   ]
  },
  {
   "cell_type": "code",
   "execution_count": null,
   "metadata": {},
   "outputs": [],
   "source": []
  },
  {
   "cell_type": "markdown",
   "metadata": {},
   "source": [
    "### ADCP post-processing\n",
    "\n",
    "First, for convenience, create variables for eastward velocity ($u$) and northward velocity ($v$) in units of m/s."
   ]
  },
  {
   "cell_type": "code",
   "execution_count": null,
   "metadata": {},
   "outputs": [],
   "source": [
    "ds['u'] = ds['water_velocity_east']/1000\n",
    "ds['u'].attrs['units'] = 'm/s'\n",
    "\n",
    "ds['v'] = ds['water_velocity_north']/1000\n",
    "ds['v'].attrs['units'] = 'm/s'"
   ]
  },
  {
   "cell_type": "markdown",
   "metadata": {},
   "source": [
    "\n",
    "The dataset provided by OOI includes the following variables:\n",
    "* `depth_from_pressure` is the total water column depth, calculated from the pressure sensor. Dimensions: `(obs)`\n",
    "* `bin_depths` is the depth of each ADCP bin below the sea surface, which moves up and down. The bin depths constantly change in time. Dimensions: `(obs, bin)`\n",
    "\n",
    "The code below creates additional variables for keeping track of depths in the ADCP data:\n",
    "* `bin_height` is the height of each ADCP bin above the bottom. These heights are fixed, since the ADCP is mounted at the bottom. Dimensions: `(bin)`\n",
    "* `bin_depths_avg` is the average depth below the surface for each ADCP bin. These depths are fixed in time since they are defined in relation to a time average. Dimensions: `(bin)`\n",
    "* `sea_surface` is the height of the sea surface, relative to the time average. Dimensions: `(obs)`\n",
    "* `bottom_depth_avg` is the average bottom depth, calculated from the pressure sensor. This is a single value with no dimensions. Dimensions: `()`"
   ]
  },
  {
   "cell_type": "code",
   "execution_count": null,
   "metadata": {},
   "outputs": [],
   "source": [
    "ds['bin_height'] =  ds['depth_from_pressure'][0] - ds['bin_depths'][0,:]\n",
    "ds['bin_height'].attrs['units'] = 'm'\n",
    "\n",
    "ds['bin_depths_avg'] = ds['bin_height']-np.mean(ds['depth_from_pressure'])\n",
    "ds['bin_depths_avg'].attrs['units'] = 'm'\n",
    "\n",
    "ds['sea_surface'] = ds['depth_from_pressure']-np.mean(ds['depth_from_pressure'])\n",
    "ds['sea_surface'].attrs['units'] = 'm'\n",
    "\n",
    "ds['bottom_depth_avg'] = np.mean(ds['depth_from_pressure'])\n",
    "ds['bottom_depth_avg'].attrs['units'] = 'm'"
   ]
  },
  {
   "cell_type": "markdown",
   "metadata": {},
   "source": [
    "### ADCP quality control\n",
    "\n",
    "The acoustic signal of the ADCP can be reflected at the sea surface, leading to contamination. This plot shows the echo intensity for one of the four beams of the ADCP. There is bad data near the sea surface, as well as data above the sea surface which needs to be discarded."
   ]
  },
  {
   "cell_type": "code",
   "execution_count": null,
   "metadata": {},
   "outputs": [],
   "source": [
    "plt.figure(figsize=(8,3))\n",
    "plt.pcolor(ds['time'],ds['bin_height'],\n",
    "           ds['corrected_echo_intensity_beam1'].T)\n",
    "plt.plot(ds['time'],ds['depth_from_pressure'],'k-') "
   ]
  },
  {
   "cell_type": "markdown",
   "metadata": {},
   "source": [
    "To get a better look, select a date range for plotting a subset of the data."
   ]
  },
  {
   "cell_type": "code",
   "execution_count": null,
   "metadata": {},
   "outputs": [],
   "source": [
    "t1 = np.datetime64('2018-07-01 00:00:00')\n",
    "t2 = np.datetime64('2018-07-15 00:00:00')"
   ]
  },
  {
   "cell_type": "code",
   "execution_count": null,
   "metadata": {},
   "outputs": [],
   "source": [
    "plt.figure(figsize=(8,3))\n",
    "plt.pcolor(ds['time'], ds['bin_height'],\n",
    "           ds['corrected_echo_intensity_beam1'].T)\n",
    "plt.plot(ds['time'], ds['depth_from_pressure'],'k-') \n",
    "plt.xlim([t1,t2])"
   ]
  },
  {
   "cell_type": "markdown",
   "metadata": {},
   "source": [
    "Looking at the velocity, the noise near the surface is apparent."
   ]
  },
  {
   "cell_type": "code",
   "execution_count": null,
   "metadata": {},
   "outputs": [],
   "source": [
    "plt.figure(figsize=(8,3))\n",
    "# insert code here (everything below)\n"
   ]
  },
  {
   "cell_type": "markdown",
   "metadata": {},
   "source": [
    "We can remove the noise by selecting only good data at least 4m below the sea surface. "
   ]
  },
  {
   "cell_type": "code",
   "execution_count": null,
   "metadata": {},
   "outputs": [],
   "source": [
    "# insert code here\n"
   ]
  },
  {
   "cell_type": "code",
   "execution_count": null,
   "metadata": {},
   "outputs": [],
   "source": [
    "# insert code here\n"
   ]
  },
  {
   "cell_type": "code",
   "execution_count": null,
   "metadata": {},
   "outputs": [],
   "source": []
  },
  {
   "cell_type": "markdown",
   "metadata": {},
   "source": [
    "We can use xarray to take an average over time, but we have to specify the dimension."
   ]
  },
  {
   "cell_type": "code",
   "execution_count": null,
   "metadata": {},
   "outputs": [],
   "source": []
  },
  {
   "cell_type": "markdown",
   "metadata": {},
   "source": [
    "### Exercises\n",
    "\n",
    "Plot the northward velocity ($v$) variable as a function of time and height above the bottom. Which velocity component tends to be stronger, the $u$ or $v$ component?"
   ]
  },
  {
   "cell_type": "code",
   "execution_count": null,
   "metadata": {},
   "outputs": [],
   "source": [
    "# insert code here\n"
   ]
  },
  {
   "cell_type": "markdown",
   "metadata": {},
   "source": [
    "Create a new variable called `ds['uda']` which is the average of `ds['u']` over depth. There should be one value for each separate time. *Hints:* What is the name of the dimension that you want to average over? How can you check the names of the dimensions in the dataset?"
   ]
  },
  {
   "cell_type": "code",
   "execution_count": null,
   "metadata": {},
   "outputs": [],
   "source": []
  },
  {
   "cell_type": "markdown",
   "metadata": {},
   "source": [
    "Do the same for the $v$-component. Create a new variable called `ds['vda']` which is the average of `ds['v']` over depth. There should be one value for each separate time. "
   ]
  },
  {
   "cell_type": "code",
   "execution_count": null,
   "metadata": {},
   "outputs": [],
   "source": []
  },
  {
   "cell_type": "markdown",
   "metadata": {},
   "source": [
    "Make a scatter plot between the depth-averaged $\\bar{u}$ and $\\bar{v}$ velocity components. Which component tends to have a greater magnitude, and why?"
   ]
  },
  {
   "cell_type": "code",
   "execution_count": null,
   "metadata": {},
   "outputs": [],
   "source": []
  },
  {
   "cell_type": "markdown",
   "metadata": {},
   "source": [
    "Give your new variables attributes for units."
   ]
  },
  {
   "cell_type": "code",
   "execution_count": null,
   "metadata": {},
   "outputs": [],
   "source": []
  },
  {
   "cell_type": "markdown",
   "metadata": {},
   "source": [
    "### Correlation functions"
   ]
  },
  {
   "cell_type": "markdown",
   "metadata": {},
   "source": [
    "**Overall Goal:** Based on the decorrelation time scale, how many *effective* degrees of freedom ($\\nu^* = N^* - 2$) does this time series have?\n",
    "\n",
    "Recall:\n",
    "\n",
    "$$ N^* = \\frac{N \\Delta t}{t^*} $$\n",
    "\n",
    "where $t^*$ is a *dominant time scale*. In practice, this is defined by a *decorrelation time scale* or an *integral time scale*.\n",
    "\n",
    "#### Preliminary exercises\n",
    "\n",
    "1) How many samples ($N$) are in the depth-averaged $\\bar{v}$ time series?\n",
    "\n",
    "2) What is the time interval $\\Delta t$ betwen samples?\n",
    "\n",
    "3) What is the total amount of time in the dataset?"
   ]
  },
  {
   "cell_type": "markdown",
   "metadata": {},
   "source": [
    "*insert answer here*"
   ]
  },
  {
   "cell_type": "markdown",
   "metadata": {},
   "source": [
    "#### Manually computing autocorrelation"
   ]
  },
  {
   "cell_type": "markdown",
   "metadata": {},
   "source": [
    "Correlation at zero lag ($\\tau$ = 0)."
   ]
  },
  {
   "cell_type": "code",
   "execution_count": null,
   "metadata": {},
   "outputs": [],
   "source": [
    "# insert code here\n"
   ]
  },
  {
   "cell_type": "code",
   "execution_count": null,
   "metadata": {},
   "outputs": [],
   "source": [
    "# insert code here\n"
   ]
  },
  {
   "cell_type": "markdown",
   "metadata": {},
   "source": [
    "Correlation at lag ($\\tau$ = $\\Delta t$)."
   ]
  },
  {
   "cell_type": "code",
   "execution_count": null,
   "metadata": {},
   "outputs": [],
   "source": [
    "# insert code here\n"
   ]
  },
  {
   "cell_type": "markdown",
   "metadata": {},
   "source": [
    "Correlation at lag ($\\tau = 2 \\Delta t$)."
   ]
  },
  {
   "cell_type": "code",
   "execution_count": null,
   "metadata": {},
   "outputs": [],
   "source": [
    "# insert code here\n"
   ]
  },
  {
   "cell_type": "code",
   "execution_count": null,
   "metadata": {},
   "outputs": [],
   "source": [
    "plt.figure()\n",
    "plt.plot(ds['time'][2:], ds['vda'][2:], 'r-')\n",
    "plt.plot(ds['time'][2:], ds['vda'][:-2], 'b-')\n",
    "plt.xlim([ds['time'][0], ds['time'][100]])\n",
    "plt.xticks(rotation=30)"
   ]
  },
  {
   "cell_type": "markdown",
   "metadata": {},
   "source": [
    "#### Exercises\n",
    "\n",
    "Compute the autocorrelation (r) for a lag of $\\tau$ = 3 hours"
   ]
  },
  {
   "cell_type": "code",
   "execution_count": null,
   "metadata": {},
   "outputs": [],
   "source": [
    "# insert code here\n"
   ]
  },
  {
   "cell_type": "markdown",
   "metadata": {},
   "source": [
    "### Autocorrelation function\n",
    "\n",
    "Computing cross-correlation and autocorrelation functions is common enough that there is a matplotlib function to plot them. This function also allows you to automatically detrend the data beforehand."
   ]
  },
  {
   "cell_type": "code",
   "execution_count": null,
   "metadata": {},
   "outputs": [],
   "source": [
    "plt.figure()\n",
    "lags,r,_,_ = plt.xcorr(ds['vda'],ds['vda'],detrend=mlab.detrend,maxlags=1000);\n",
    "plt.xlabel('lag')\n",
    "plt.ylabel('r')\n",
    "plt.title('autocorrelation function, depth-averaged v')"
   ]
  },
  {
   "cell_type": "code",
   "execution_count": null,
   "metadata": {},
   "outputs": [],
   "source": []
  },
  {
   "cell_type": "code",
   "execution_count": null,
   "metadata": {},
   "outputs": [],
   "source": []
  },
  {
   "cell_type": "markdown",
   "metadata": {},
   "source": [
    "#### Exercises\n",
    "\n",
    "* From the autocorrelation plot above, visually estimate the *decorrelation time scale* $t^*$ (the time lag $\\tau$ at which $r$ decreases to 0, in units of hours or days). Note: you will have to convert the number of lags on the x-axis to time using the sample interval $\\Delta t$.\n",
    "* Based on the decorrelation time scale, how many *effective* degrees of freedom ($N^*$) does this time series have?"
   ]
  },
  {
   "cell_type": "markdown",
   "metadata": {},
   "source": []
  },
  {
   "cell_type": "markdown",
   "metadata": {},
   "source": [
    "#### Correlation between two variables\n",
    "\n",
    "We want to see if there is a significant correlation between depth-averaged velocity `vda` and temperature.\n",
    "\n",
    "#### Preliminary exercise\n",
    "\n",
    "- What are the units of temperature in this dataset?"
   ]
  },
  {
   "cell_type": "code",
   "execution_count": null,
   "metadata": {},
   "outputs": [],
   "source": []
  },
  {
   "cell_type": "code",
   "execution_count": null,
   "metadata": {},
   "outputs": [
    {
     "data": {
      "application/vnd.jupyter.widget-view+json": {
       "model_id": "646fe634a3e840af9901d4a826077dfa",
       "version_major": 2,
       "version_minor": 0
      },
      "image/png": "[encoded data removed]",
      "text/html": [
       "\n",
       "            <div style=\"display: inline-block;\">\n",
       "                <div class=\"jupyter-widgets widget-label\" style=\"text-align: center;\">\n",
       "                    Figure\n",
       "                </div>\n",
       "                <img src='data:image/png;base64,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' width=640.0/>\n",
       "            </div>\n",
       "        "
      ],
      "text/plain": [
       "Canvas(toolbar=Toolbar(toolitems=[('Home', 'Reset original view', 'home', 'home'), ('Back', 'Back to previous …"
      ]
     },
     "metadata": {},
     "output_type": "display_data"
    }
   ],
   "source": [
    "plt.figure()\n",
    "plt.subplot(211)\n",
    "plt.plot(ds['time'], ds['vda'])\n",
    "plt.title('depth-averaged velocity')\n",
    "plt.ylabel('[m/s]')\n",
    "\n",
    "plt.subplot(212)\n",
    "plt.plot(ds['time'], ds['temperature']/100)\n",
    "plt.title('bottom temperature')\n",
    "plt.ylabel('[deg C]')\n",
    "plt.tight_layout()"
   ]
  },
  {
   "cell_type": "markdown",
   "metadata": {},
   "source": [
    "#### Exercises\n",
    "\n",
    "1. Make a scatter plot of `vda` vs. `temperature`. Based on your visual intuition, is there a significant correlation? Take a guess at what you think the correlation coefficient (a.k.a. r-value) will be.\n"
   ]
  },
  {
   "cell_type": "code",
   "execution_count": null,
   "metadata": {},
   "outputs": [],
   "source": []
  },
  {
   "cell_type": "markdown",
   "metadata": {},
   "source": [
    "\n",
    "2. Use the `linregress` function (from the SciPy stats library) to determine a correlation coefficient and p-value. What does the p-value say about statistical significance, and why is this misleading?\n"
   ]
  },
  {
   "cell_type": "code",
   "execution_count": null,
   "metadata": {},
   "outputs": [],
   "source": []
  },
  {
   "cell_type": "markdown",
   "metadata": {},
   "source": [
    "\n",
    "3. Based on your effective degrees of freedom, and Emery and Thomson's table of significant correlation coefficients, is the correlation significant? How does using effective degrees of freedom $N^*$, instead of the total number of data points $N$, affect your conclusions?"
   ]
  },
  {
   "cell_type": "code",
   "execution_count": null,
   "metadata": {},
   "outputs": [],
   "source": []
  },
  {
   "cell_type": "markdown",
   "metadata": {},
   "source": [
    "### Spectral analysis intro"
   ]
  },
  {
   "cell_type": "markdown",
   "metadata": {},
   "source": [
    "These exercises use the time series for depth-averaged velocity $\\bar{v}$ and bottom pressure."
   ]
  },
  {
   "cell_type": "code",
   "execution_count": null,
   "metadata": {},
   "outputs": [],
   "source": [
    "plt.figure()\n",
    "# insert code here\n"
   ]
  },
  {
   "cell_type": "code",
   "execution_count": null,
   "metadata": {},
   "outputs": [],
   "source": [
    "plt.figure()\n",
    "# insert code here\n"
   ]
  },
  {
   "cell_type": "markdown",
   "metadata": {},
   "source": [
    "### Exercises\n",
    "\n",
    "* How many samples $N$ are in the time series?\n",
    "* What is the sample interval $\\Delta t$, in hours? In days?\n",
    "* What is the fundamental frequency of the time series (in cycles per day)?\n",
    "* What is the sampling frequency of the time series (in cycles per day)?"
   ]
  },
  {
   "cell_type": "code",
   "execution_count": null,
   "metadata": {},
   "outputs": [],
   "source": [
    "from scipy.signal import periodogram\n",
    "# insert code here\n"
   ]
  },
  {
   "cell_type": "code",
   "execution_count": null,
   "metadata": {},
   "outputs": [],
   "source": [
    "# insert code here\n"
   ]
  },
  {
   "cell_type": "markdown",
   "metadata": {},
   "source": [
    "### Exercises\n",
    "\n",
    "* Plot the periodogram (spectrum) for pressure\n",
    "* Label the plot with the appropriate units\n",
    "* Discuss the similarities and differences between the spectra of velocity and pressure."
   ]
  },
  {
   "cell_type": "markdown",
   "metadata": {},
   "source": [
    "#### Pressure spectrum"
   ]
  },
  {
   "cell_type": "code",
   "execution_count": null,
   "metadata": {},
   "outputs": [],
   "source": [
    "# insert code here\n"
   ]
  },
  {
   "cell_type": "markdown",
   "metadata": {},
   "source": [
    "### Better spectral estimates\n",
    "* Sensible data windows\n",
    "* Averaging\n",
    "* Pre-whitening\n",
    "* Confidence intervals"
   ]
  },
  {
   "cell_type": "code",
   "execution_count": null,
   "metadata": {},
   "outputs": [],
   "source": [
    "from scipy.signal import welch"
   ]
  },
  {
   "cell_type": "code",
   "execution_count": null,
   "metadata": {},
   "outputs": [],
   "source": [
    "N = len(ds['vda'])\n",
    "fs = 48. # sampling frequency? units?\n",
    "# fnyquist"
   ]
  },
  {
   "cell_type": "code",
   "execution_count": null,
   "metadata": {},
   "outputs": [],
   "source": [
    "# raw periodogram (noisy, biased)\n",
    "f,S = welch(ds['vda'],fs = 48.,nperseg=N, window='boxcar')\n",
    "\n",
    "# Welch's method with winlen N/2\n",
    "winlen = N/2\n",
    "f2,S2 = welch(ds['vda'],fs = 48.,nperseg=winlen,window='hann',detrend='linear')"
   ]
  },
  {
   "cell_type": "code",
   "execution_count": null,
   "metadata": {},
   "outputs": [],
   "source": [
    "plt.figure()\n",
    "plt.loglog(f,S)\n",
    "plt.xlabel('frequency [cpd]') # units? [cpd], \n",
    "plt.ylabel('PSD ') # units? [m$^2$ s$^{-2}$ cpd$^{-1}$], variance/frequency"
   ]
  },
  {
   "cell_type": "code",
   "execution_count": null,
   "metadata": {},
   "outputs": [],
   "source": [
    "plt.loglog(f2,S2)"
   ]
  },
  {
   "cell_type": "code",
   "execution_count": null,
   "metadata": {},
   "outputs": [],
   "source": [
    "from scipy.stats import chi2\n",
    "\n",
    "M = winlen/2\n",
    "dof = N/M # dof depends on length of window\n",
    "edof = (8/3)*dof # bonus points for using sensible window (Hanning)\n",
    "\n",
    "lower = edof/chi2.ppf(0.975,edof)\n",
    "upper = edof/chi2.ppf(0.025,edof)"
   ]
  },
  {
   "cell_type": "code",
   "execution_count": null,
   "metadata": {},
   "outputs": [],
   "source": [
    "fplot = 5 # horizontal position of CI\n",
    "Splot = 0.01 # vertical position of CI\n",
    "\n",
    "plt.plot(np.array([fplot,fplot]),Splot*np.array([lower,upper]),'k-')\n",
    "plt.text(fplot,Splot,' 95% (Welch)')"
   ]
  },
  {
   "cell_type": "markdown",
   "metadata": {},
   "source": [
    "* Change the window length to N/4. Note how the shape of the spectrum changes. Note how the confidence intervals change. Do the same for a window length of N/8.\n",
    "* What are the advantages of a shorter window length (more averaging)? What are the disadvantages?"
   ]
  },
  {
   "cell_type": "markdown",
   "metadata": {},
   "source": [
    "### Filtering (next class)"
   ]
  },
  {
   "cell_type": "markdown",
   "metadata": {},
   "source": [
    "#### Preliminary exercises\n",
    "* To remove tidal fluctations from the Oregon velocity time series, we will filter the time series to remove high-frequency fluctionas with periods less than 33 hours. If the cutoff period of the filter is 33 hours, what is the corresponding frequency in cycles per hour?\n",
    "* In this data set, how many observations are collected in 33 hours?"
   ]
  },
  {
   "cell_type": "code",
   "execution_count": null,
   "metadata": {},
   "outputs": [],
   "source": [
    "T_cutoff = 33\n",
    "f_cutoff = 1/33*24 # 1/hour * 24 hours/day = cpd"
   ]
  },
  {
   "cell_type": "code",
   "execution_count": null,
   "metadata": {},
   "outputs": [],
   "source": []
  },
  {
   "cell_type": "code",
   "execution_count": null,
   "metadata": {},
   "outputs": [],
   "source": [
    "# xarray rolling mean (33 hours, or 66 observations)\n",
    "ds['vda_davg'] = ds['vda'].rolling(obs=66,center=True).mean()\n",
    "\n",
    "# PL64 filter (WHOI)\n",
    "ds['vda_filt'] = ts.pl64(ds['vda'],T=66)"
   ]
  },
  {
   "cell_type": "code",
   "execution_count": null,
   "metadata": {},
   "outputs": [],
   "source": [
    "plt.figure()\n",
    "plt.plot(ds['time'],ds['vda'])\n",
    "plt.plot(ds['time'],ds['vda_davg'])\n",
    "plt.plot(ds['time'],ds['vda_filt'])\n",
    "plt.legend(['original','rolling boxcar','PL64 filter'])"
   ]
  },
  {
   "cell_type": "markdown",
   "metadata": {},
   "source": [
    "Show:\n",
    "- Zoom in on smoothed fluctuations\n",
    "- Zoom in on edges to show lost information"
   ]
  },
  {
   "cell_type": "code",
   "execution_count": null,
   "metadata": {},
   "outputs": [],
   "source": [
    "ii = np.isfinite(ds['vda_davg'])"
   ]
  },
  {
   "cell_type": "code",
   "execution_count": null,
   "metadata": {},
   "outputs": [],
   "source": [
    "fdavg,Sdavg = welch(ds['vda_davg'][ii],fs = 48.,nperseg=winlen/2,window='hanning',\n",
    "                    detrend='linear')"
   ]
  },
  {
   "cell_type": "code",
   "execution_count": null,
   "metadata": {},
   "outputs": [],
   "source": [
    "plt.figure()\n",
    "plt.loglog(f2,S2)\n",
    "plt.loglog(fdavg,Sdavg)"
   ]
  },
  {
   "cell_type": "markdown",
   "metadata": {},
   "source": [
    "On the same axis as the spectrum of rolling mean time series, plot:\n",
    "- the spectrum of the original time series\n",
    "- the spectrum of the time series filtered with the PL64 filter\n",
    "\n",
    "Which smoothing method is more effective at removing high-frequency fluctuations with periods of less than 33 hours?\n",
    "\n",
    "Which smoothing method is more effective at retaining low-frequency fluctuations with periods greater than 33 hours?"
   ]
  },
  {
   "cell_type": "code",
   "execution_count": null,
   "metadata": {},
   "outputs": [],
   "source": []
  },
  {
   "cell_type": "code",
   "execution_count": null,
   "metadata": {},
   "outputs": [],
   "source": [
    "jj = np.isfinite(ds['vda_filt'])\n",
    "ffilt,Sfilt = welch(ds['vda_filt'][jj],fs = 48.,nperseg=winlen/2,window='hanning',\n",
    "                    detrend='linear')"
   ]
  },
  {
   "cell_type": "code",
   "execution_count": null,
   "metadata": {},
   "outputs": [],
   "source": [
    "plt.loglog(ffilt,Sfilt)"
   ]
  },
  {
   "cell_type": "code",
   "execution_count": null,
   "metadata": {},
   "outputs": [],
   "source": [
    "plt.legend(['unfiltered','rolling mean','PL64 filter'])"
   ]
  },
  {
   "cell_type": "code",
   "execution_count": null,
   "metadata": {},
   "outputs": [],
   "source": [
    "yl = plt.ylim()\n",
    "plt.plot([f_cutoff,f_cutoff],yl,'k--')\n",
    "plt.ylim(yl)"
   ]
  },
  {
   "cell_type": "code",
   "execution_count": null,
   "metadata": {},
   "outputs": [],
   "source": [
    "plt.xlabel('frequency [cpd]')\n",
    "plt.ylabel('PSD [m$^2$ s$^{-2}$ cpd$^{-1}$]')"
   ]
  },
  {
   "cell_type": "code",
   "execution_count": null,
   "metadata": {},
   "outputs": [],
   "source": []
  }
 ],
 "metadata": {
  "kernelspec": {
   "display_name": "data-25",
   "language": "python",
   "name": "python3"
  },
  "language_info": {
   "codemirror_mode": {
    "name": "ipython",
    "version": 3
   },
   "file_extension": ".py",
   "mimetype": "text/x-python",
   "name": "python",
   "nbconvert_exporter": "python",
   "pygments_lexer": "ipython3",
   "version": "3.12.8"
  }
 },
 "nbformat": 4,
 "nbformat_minor": 4
}
